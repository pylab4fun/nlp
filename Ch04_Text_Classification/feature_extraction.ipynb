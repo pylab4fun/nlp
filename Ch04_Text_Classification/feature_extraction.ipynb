{
 "cells": [
  {
   "cell_type": "markdown",
   "metadata": {},
   "source": [
    "## Feature extraction\n",
    "\n",
    "A document is nothing but a group (more than one) of tokens.Every supervised machine learning algorithm requires each and every textual document to be represented in the form of a vector to start training on these docs,this is done through Vector Space Modelling (VSM).\n",
    "\n",
    "Differ from traditional **one-hot** vector, VSM can largely be implemented via two unique and poles apart techniques:\n",
    "\n",
    "* count-based method: BOW and tf-idf\n",
    "* predication-based method: word2vec and Doc2vec"
   ]
  },
  {
   "cell_type": "markdown",
   "metadata": {},
   "source": [
    "## BOW"
   ]
  },
  {
   "cell_type": "code",
   "execution_count": 3,
   "metadata": {},
   "outputs": [],
   "source": [
    "CORPUS = [\n",
    "'the sky is blue',\n",
    "'sky is blue and sky is beautiful',\n",
    "'the beautiful sky is so blue',\n",
    "'i love blue cheese'\n",
    "]"
   ]
  },
  {
   "cell_type": "code",
   "execution_count": 4,
   "metadata": {},
   "outputs": [
    {
     "name": "stdout",
     "output_type": "stream",
     "text": [
      "   and  beautiful  blue  cheese  is  love  sky  so  the\n",
      "0    0          0     1       0   1     0    1   0    1\n",
      "1    1          1     1       0   2     0    2   0    0\n",
      "2    0          1     1       0   1     0    1   1    1\n",
      "3    0          0     1       1   0     1    0   0    0\n"
     ]
    }
   ],
   "source": [
    "new_doc = ['loving this blue sky today']\n",
    "\n",
    "import pandas as pd\n",
    "\n",
    "def display_features(features, feature_names):\n",
    "    df = pd.DataFrame(data=features,\n",
    "                      columns=feature_names)\n",
    "    print df\n",
    "\n",
    "\n",
    "from feature_extractors import bow_extractor    \n",
    "    \n",
    "bow_vectorizer, bow_features = bow_extractor(CORPUS)\n",
    "features = bow_features.todense()\n",
    "feature_names = bow_vectorizer.get_feature_names()\n",
    "display_features(features, feature_names)"
   ]
  },
  {
   "cell_type": "code",
   "execution_count": 5,
   "metadata": {},
   "outputs": [
    {
     "name": "stdout",
     "output_type": "stream",
     "text": [
      "   and  beautiful  blue  cheese  is  love  sky  so  the\n",
      "0    0          0     1       0   0     0    1   0    0\n"
     ]
    }
   ],
   "source": [
    "new_doc_features = bow_vectorizer.transform(new_doc)\n",
    "new_doc_features = new_doc_features.todense()\n",
    "display_features(new_doc_features, feature_names)"
   ]
  },
  {
   "cell_type": "markdown",
   "metadata": {},
   "source": [
    "## TF-IDF\n",
    "<img src=\"tf.png\" width=\"200\">\n",
    "<img src=\"idf.png\" width=\"200\">"
   ]
  },
  {
   "cell_type": "code",
   "execution_count": 6,
   "metadata": {},
   "outputs": [
    {
     "name": "stdout",
     "output_type": "stream",
     "text": [
      "    and  beautiful  blue  cheese    is  love   sky    so   the\n",
      "0  0.00       0.00  0.40    0.00  0.49  0.00  0.49  0.00  0.60\n",
      "1  0.44       0.35  0.23    0.00  0.56  0.00  0.56  0.00  0.00\n",
      "2  0.00       0.43  0.29    0.00  0.35  0.00  0.35  0.55  0.43\n",
      "3  0.00       0.00  0.35    0.66  0.00  0.66  0.00  0.00  0.00\n"
     ]
    }
   ],
   "source": [
    "import numpy as np\n",
    "from feature_extractors import tfidf_transformer\n",
    "feature_names = bow_vectorizer.get_feature_names()\n",
    "    \n",
    "tfidf_trans, tdidf_features = tfidf_transformer(bow_features)\n",
    "features = np.round(tdidf_features.todense(), 2)\n",
    "display_features(features, feature_names)"
   ]
  },
  {
   "cell_type": "markdown",
   "metadata": {},
   "source": [
    "## Word2Vec\n",
    "This algorithm transfers word to vector using word embedding solution. It has two models: **Skip-Gram** and **CBOW**."
   ]
  },
  {
   "cell_type": "code",
   "execution_count": 8,
   "metadata": {},
   "outputs": [
    {
     "name": "stdout",
     "output_type": "stream",
     "text": [
      "Word2Vec(vocab=5, size=10, alpha=0.025)\n",
      "the smilarity of [sky] and [beautiful] is: -0.19884284\n",
      "-----\n",
      "\n",
      "the words related to [sky] are:\n",
      "the 0.0992874801159\n",
      "is -0.13096781075\n",
      "-----\n",
      "\n",
      "the word doesn't match:\n",
      "blue\n",
      "-----\n",
      "\n",
      "save the model\n"
     ]
    }
   ],
   "source": [
    "# using existing word2vec of gensim \n",
    "import gensim\n",
    "import nltk\n",
    "\n",
    "TOKENIZED_CORPUS = [nltk.word_tokenize(sentence) for sentence in CORPUS]\n",
    "tokenized_new_doc = [nltk.word_tokenize(sentence) for sentence in new_doc]\n",
    "\n",
    "model = gensim.models.Word2Vec(TOKENIZED_CORPUS,\n",
    "                               size=10,\n",
    "                               window=10,\n",
    "                               min_count=2,\n",
    "                               sample=1e-3)\n",
    "\n",
    "print model\n",
    "\n",
    "y1 = model.wv.similarity(u\"sky\", u\"beautiful\")\n",
    "print \"the smilarity of [sky] and [beautiful] is:\", y1\n",
    "print\"-----\\n\"\n",
    "\n",
    "y2 = model.wv.most_similar(\"sky\", topn=2)  # 2个最相关的\n",
    "print u\"the words related to [sky] are:\"\n",
    "for item in y2:\n",
    "    print item[0], item[1]\n",
    "print\"-----\\n\"\n",
    " \n",
    "y4 =model.wv.doesnt_match(u\"sky blue love\".split())\n",
    "print \"the word doesn't match:\"\n",
    "print y4\n",
    "print\"-----\\n\"\n",
    "\n",
    "print \"save the model\"\n",
    "model.wv.save(\"sample.model\")"
   ]
  },
  {
   "cell_type": "markdown",
   "metadata": {},
   "source": [
    "### CBOW\n",
    "<img src=\"CBOW.png\" width=\"400\">\n",
    "(1) <img src=\"CBOW1.png\" width=\"400\">\n",
    "(2) <img src=\"CBOW2.png\" width=\"400\">\n",
    "(3) <img src=\"CBOW3.png\" width=\"400\">\n",
    "(4) <img src=\"CBOW4.png\" width=\"400\">\n",
    "(5) <img src=\"CBOW5.png\" width=\"400\">"
   ]
  },
  {
   "cell_type": "markdown",
   "metadata": {},
   "source": [
    "### Skip-Gram\n",
    "<img src=\"skip-gram.png\" width=\"400\">\n",
    "(1) <img src=\"skip-gram1.png\" width=\"400\">\n",
    "(2) <img src=\"skip-gram2.png\" width=\"400\">\n",
    "(3) <img src=\"skip-gram3.png\" width=\"400\">"
   ]
  },
  {
   "cell_type": "code",
   "execution_count": 10,
   "metadata": {},
   "outputs": [
    {
     "name": "stdout",
     "output_type": "stream",
     "text": [
      "('Epoch:', 0, 'Loss:', 458.26127287819514)\n",
      "('Epoch:', 1, 'Loss:', 413.6798383626999)\n",
      "('Epoch:', 2, 'Loss:', 385.1572244201346)\n",
      "('Epoch:', 3, 'Loss:', 365.01276864128084)\n",
      "('Epoch:', 4, 'Loss:', 349.7955040809828)\n",
      "('Epoch:', 5, 'Loss:', 337.75059351963404)\n",
      "('Epoch:', 6, 'Loss:', 327.88592030771196)\n",
      "('Epoch:', 7, 'Loss:', 319.5884010127762)\n",
      "('Epoch:', 8, 'Loss:', 312.45484469758543)\n",
      "('Epoch:', 9, 'Loss:', 306.2105603005523)\n",
      "('Epoch:', 10, 'Loss:', 300.66450826206295)\n",
      "('Epoch:', 11, 'Loss:', 295.6815736893177)\n",
      "('Epoch:', 12, 'Loss:', 291.16463560752436)\n",
      "('Epoch:', 13, 'Loss:', 287.04298093470135)\n",
      "('Epoch:', 14, 'Loss:', 283.26484382733645)\n",
      "('Epoch:', 15, 'Loss:', 279.79242867064136)\n",
      "('Epoch:', 16, 'Loss:', 276.59823854943994)\n",
      "('Epoch:', 17, 'Loss:', 273.6619970817738)\n",
      "('Epoch:', 18, 'Loss:', 270.9678923049268)\n",
      "('Epoch:', 19, 'Loss:', 268.5021991317503)\n",
      "('Epoch:', 20, 'Loss:', 266.2514799959319)\n",
      "('Epoch:', 21, 'Loss:', 264.2015220114629)\n",
      "('Epoch:', 22, 'Loss:', 262.33701675959554)\n",
      "('Epoch:', 23, 'Loss:', 260.6418271062)\n",
      "('Epoch:', 24, 'Loss:', 259.09959096356505)\n",
      "('Epoch:', 25, 'Loss:', 257.694408997343)\n",
      "('Epoch:', 26, 'Loss:', 256.4114294325628)\n",
      "('Epoch:', 27, 'Loss:', 255.2372350336784)\n",
      "('Epoch:', 28, 'Loss:', 254.16001753362093)\n",
      "('Epoch:', 29, 'Loss:', 253.16957497743087)\n",
      "('Epoch:', 30, 'Loss:', 252.2571874062383)\n",
      "('Epoch:', 31, 'Loss:', 251.41542537897328)\n",
      "('Epoch:', 32, 'Loss:', 250.63793471417284)\n",
      "('Epoch:', 33, 'Loss:', 249.91922725582486)\n",
      "('Epoch:', 34, 'Loss:', 249.25449541232973)\n",
      "('Epoch:', 35, 'Loss:', 248.6394589788564)\n",
      "('Epoch:', 36, 'Loss:', 248.0702462629606)\n",
      "('Epoch:', 37, 'Loss:', 247.54330729114318)\n",
      "('Epoch:', 38, 'Loss:', 247.0553543782502)\n",
      "('Epoch:', 39, 'Loss:', 246.6033241919805)\n",
      "('Epoch:', 40, 'Loss:', 246.18435531085447)\n",
      "('Epoch:', 41, 'Loss:', 245.79577585122004)\n",
      "('Epoch:', 42, 'Loss:', 245.43509673681353)\n",
      "('Epoch:', 43, 'Loss:', 245.1000073441691)\n",
      "('Epoch:', 44, 'Loss:', 244.78837137629472)\n",
      "('Epoch:', 45, 'Loss:', 244.49822176462433)\n",
      "('Epoch:', 46, 'Loss:', 244.22775411500297)\n",
      "('Epoch:', 47, 'Loss:', 243.97531869334847)\n",
      "('Epoch:', 48, 'Loss:', 243.73941122271165)\n",
      "('Epoch:', 49, 'Loss:', 243.5186628843507)\n",
      "('machine', 0.9999999999999999)\n",
      "('learning', 0.27046480592847894)\n",
      "('language', 0.2425017045915643)\n"
     ]
    }
   ],
   "source": [
    "import numpy as np\n",
    "import collections\n",
    "class word2vec():\n",
    "    def __init__(self):\n",
    "        self.n = settings['n']\n",
    "        self.lr = settings['learning_rate']\n",
    "        self.epochs = settings['epochs']\n",
    "        self.window = settings['window_size']\n",
    "\n",
    "    def generate_training_data(self, settings, corpus):\n",
    "        # Find unique word counts using dictonary\n",
    "        word_counts = collections.defaultdict(int)\n",
    "        for row in corpus:\n",
    "            for word in row:\n",
    "                word_counts[word] += 1\n",
    "        ## How many unique words in vocab? 9\n",
    "        self.v_count = len(word_counts.keys())\n",
    "        # Generate Lookup Dictionaries (vocab)\n",
    "        self.words_list = list(word_counts.keys())\n",
    "        # Generate word:index\n",
    "        self.word_index = dict((word, i) for i, word in enumerate(self.words_list))\n",
    "        # Generate index:word\n",
    "        self.index_word = dict((i, word) for i, word in enumerate(self.words_list))\n",
    "\n",
    "        training_data = []\n",
    "        # Cycle through each sentence in corpus\n",
    "        for sentence in corpus:\n",
    "            sent_len = len(sentence)\n",
    "            # Cycle through each word in sentence\n",
    "            for i, word in enumerate(sentence):\n",
    "                # Convert target word to one-hot\n",
    "                w_target = self.word2onehot(sentence[i])\n",
    "                # Cycle through context window\n",
    "                w_context = []\n",
    "                # Note: window_size 2 will have range of 5 values\n",
    "                for j in range(i - self.window, i + self.window+1):\n",
    "                    # Criteria for context word\n",
    "                    # 1. Target word cannot be context word (j != i)\n",
    "                    # 2. Index must be greater or equal than 0 (j >= 0) - if not list index out of range\n",
    "                    # 3. Index must be less or equal than length of sentence (j <= sent_len-1) - if not list index out of range\n",
    "                    if j != i and j <= sent_len-1 and j >= 0:\n",
    "                    # Append the one-hot representation of word to w_context\n",
    "                        w_context.append(self.word2onehot(sentence[j]))\n",
    "                        # print(sentence[i], sentence[j])\n",
    "                        # training_data contains a one-hot representation of the target word and context words\n",
    "                    training_data.append([w_target, w_context])\n",
    "    \n",
    "        return np.array(training_data)\n",
    "\n",
    "    def word2onehot(self, word):\n",
    "        # word_vec - initialise a blank vector\n",
    "        word_vec = [0 for i in range(0, self.v_count)] # Alternative - np.zeros(self.v_count)\n",
    "        # Get ID of word from word_index\n",
    "        word_index = self.word_index[word]\n",
    "        # Change value from 0 to 1 according to ID of the word\n",
    "        word_vec[word_index] = 1\n",
    "        return word_vec\n",
    "\n",
    "    def train(self, training_data):\n",
    "        \n",
    "        self.w1 = np.random.uniform(-1, 1, (self.v_count, self.n))\n",
    "        self.w2 = np.random.uniform(-1, 1, (self.n, self.v_count))\n",
    "        ##Removed##\n",
    "        # Cycle through each epoch\n",
    "        for i in range(self.epochs):\n",
    "            self.loss = 0\n",
    "            for w_t, w_c in training_data:\n",
    "            ##Removed##\n",
    "            # Calculate error\n",
    "            # 1. For a target word, calculate difference between y_pred and each of the context words\n",
    "            # 2. Sum up the differences using np.sum to give us the error for this particular target word\n",
    "                y_pred, h, u = self.forward_pass(w_t)\n",
    "                EI = np.sum([np.subtract(y_pred, word) for word in w_c], axis=0)\n",
    "            # Backpropagation\n",
    "            # We use SGD to backpropagate errors - calculate loss on the output layer\n",
    "                self.backprop(EI, h, w_t)\n",
    "        \n",
    "            # Calculate loss\n",
    "            # There are 2 parts to the loss function\n",
    "            # Part 1: -ve sum of all the output +\n",
    "            # Part 2: length of context words * log of sum for all elements (exponential-ed) in the output layer before softmax (u)\n",
    "            # Note: word.index(1) returns the index in the context word vector with value 1\n",
    "            # Note: u[word.index(1)] returns the value of the output layer before softmax\n",
    "                self.loss += -np.sum([u[word.index(1)] for word in w_c]) + len(w_c) * np.log(np.sum(np.exp(u)))\n",
    "            \n",
    "            print('Epoch:', i, \"Loss:\", self.loss)\n",
    "\n",
    "    def backprop(self, e, h, x):\n",
    "        # https://docs.scipy.org/doc/numpy-1.15.1/reference/generated/numpy.outer.html\n",
    "        # Column vector EI represents row-wise sum of prediction errors across each context word for the current center word\n",
    "        # Going backwards, we need to take derivative of E with respect of w2\n",
    "        # h - shape 10x1, e - shape 9x1, dl_dw2 - shape 10x9\n",
    "        dl_dw2 = np.outer(h, e)\n",
    "        # x - shape 1x8, w2 - 5x8, e.T - 8x1\n",
    "        # x - 1x8, np.dot() - 5x1, dl_dw1 - 8x5\n",
    "        dl_dw1 = np.outer(x, np.dot(self.w2, e.T))\n",
    "        # Update weights\n",
    "        self.w1 = self.w1 - (self.lr * dl_dw1)\n",
    "        self.w2 = self.w2 - (self.lr * dl_dw2)\n",
    "        \n",
    "    def forward_pass(self, x):\n",
    "        # x is one-hot vector for target word, shape - 9x1\n",
    "        # Run through first matrix (w1) to get hidden layer - 10x9 dot 9x1 gives us 10x1\n",
    "        h = np.dot(self.w1.T, x)\n",
    "        # Dot product hidden layer with second matrix (w2) - 9x10 dot 10x1 gives us 9x1\n",
    "        u = np.dot(self.w2.T, h)\n",
    "        # Run 1x9 through softmax to force each element to range of [0, 1] - 1x8\n",
    "        y_c = self.softmax(u)\n",
    "        return y_c, h, u\n",
    "    \n",
    "    def softmax(self, x):\n",
    "        e_x = np.exp(x - np.max(x))\n",
    "        return e_x / e_x.sum(axis=0)\n",
    "\n",
    "    def word_vec(self, word):\n",
    "        w_index = self.word_index[word]\n",
    "        v_w = self.w1[w_index]\n",
    "        return v_w\n",
    "\n",
    "    def vec_sim(self, word, top_n):\n",
    "        v_w1 = self.word_vec(word)\n",
    "        word_sim = {}\n",
    "    \n",
    "        for i in range(self.v_count):\n",
    "            # Find the similary score for each word in vocab\n",
    "            v_w2 = self.w1[i]\n",
    "            theta_sum = np.dot(v_w1, v_w2)\n",
    "            theta_den = np.linalg.norm(v_w1) * np.linalg.norm(v_w2)\n",
    "            theta = theta_sum / theta_den\n",
    "        \n",
    "            word = self.index_word[i]\n",
    "            word_sim[word] = theta\n",
    "    \n",
    "        words_sorted = sorted(word_sim.items(), key=lambda kv: kv[1], reverse=True)\n",
    "    \n",
    "        for word, sim in words_sorted[:top_n]:\n",
    "            print(word, sim)\n",
    "text = \"natural language processing and machine learning is fun and exciting\"\n",
    "\n",
    "# Note the .lower() as upper and lowercase does not matter in our implementation\n",
    "# [['natural', 'language', 'processing', 'and', 'machine', 'learning', 'is', 'fun', 'and', 'exciting']]\n",
    "corpus = [[word.lower() for word in text.split()]]\n",
    "\n",
    "settings = {\n",
    "\t'window_size': 2, # context window +- center word\n",
    "\t'n': 10,\t\t# dimensions of word embeddings, also refer to size of hidden layer\n",
    "\t'epochs': 50,\t\t# number of training epochs\n",
    "\t'learning_rate': 0.01# learning rate\n",
    "}\n",
    "\n",
    "# Initialise object\n",
    "w2v = word2vec()\n",
    "# Numpy ndarray with one-hot representation for [target_word, context_words]\n",
    "training_data = w2v.generate_training_data(settings, corpus)\n",
    "w2v.train(training_data)\n",
    "vec = w2v.word_vec(\"machine\")\n",
    "w2v.vec_sim(\"machine\", 3)"
   ]
  },
  {
   "cell_type": "markdown",
   "metadata": {},
   "source": [
    "###  Optimizing Computational Efficiency\n",
    "* Hierarchical Softmax\n",
    "<img src=\"Hierarchical Softmax.png\" width=\"400\">\n",
    "* Negative Sampling\n",
    "<img src=\"Negative Sampling.png\" width=\"400\">"
   ]
  },
  {
   "cell_type": "markdown",
   "metadata": {},
   "source": [
    "## Doc2Vec\n",
    "This algorithm transfers document to vector. It has two models:\n",
    "* PV-DM(Paragraph Vector: A distributed memory model)\n",
    "<img src=\"PVDM.png\" width=\"400\">\n",
    "* DBOW(Distributed bag of words)\n",
    "<img src=\"DBOW.png\" width=\"400\">"
   ]
  },
  {
   "cell_type": "code",
   "execution_count": 11,
   "metadata": {},
   "outputs": [
    {
     "name": "stdout",
     "output_type": "stream",
     "text": [
      "[-0.00349501 -0.06090447 -0.07299673  0.04204015  0.01652598]\n"
     ]
    }
   ],
   "source": [
    "from gensim.test.utils import common_texts\n",
    "from gensim.models.doc2vec import Doc2Vec, TaggedDocument\n",
    "\n",
    "documents = [TaggedDocument(doc, [i]) for i, doc in enumerate(common_texts)]\n",
    "model = Doc2Vec(documents, vector_size=5, window=2, min_count=1, workers=4)\n",
    "\n",
    "from gensim.test.utils import get_tmpfile\n",
    "fname = get_tmpfile(\"my_doc2vec_model\")\n",
    "model.save(fname)\n",
    "model = Doc2Vec.load(fname)  # you can continue training with the loaded model!\n",
    "model.delete_temporary_training_data(keep_doctags_vectors=True, keep_inference=True)\n",
    "vector = model.infer_vector([\"system\", \"response\"])\n",
    "print vector"
   ]
  },
  {
   "cell_type": "markdown",
   "metadata": {},
   "source": [
    "## Reference\n",
    "* https://arxiv.org/pdf/1301.3781.pdf\n",
    "* https://arxiv.org/pdf/1411.2738.pdf\n",
    "* https://cs.stanford.edu/~quocle/paragraph_vector.pdf"
   ]
  },
  {
   "cell_type": "code",
   "execution_count": null,
   "metadata": {},
   "outputs": [],
   "source": []
  }
 ],
 "metadata": {
  "kernelspec": {
   "display_name": "Python 2",
   "language": "python",
   "name": "python2"
  },
  "language_info": {
   "codemirror_mode": {
    "name": "ipython",
    "version": 2
   },
   "file_extension": ".py",
   "mimetype": "text/x-python",
   "name": "python",
   "nbconvert_exporter": "python",
   "pygments_lexer": "ipython2",
   "version": "2.7.10"
  }
 },
 "nbformat": 4,
 "nbformat_minor": 2
}
